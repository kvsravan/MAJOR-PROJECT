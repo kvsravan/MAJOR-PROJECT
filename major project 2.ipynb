{
 "cells": [
  {
   "cell_type": "code",
   "execution_count": 10,
   "id": "72bd7814",
   "metadata": {},
   "outputs": [],
   "source": [
    "# IMPORT REQUIRED LIBRARIES\n",
    "import cv2 \n",
    "import numpy as np\n",
    "from sklearn.metrics import pairwise"
   ]
  },
  {
   "cell_type": "code",
   "execution_count": 18,
   "id": "0f19eead",
   "metadata": {},
   "outputs": [],
   "source": [
    "# ALLOWING WEBCAM TO ACCESS\n",
    "cap=cv2.VideoCapture(0)\n",
    "ko=np.ones((5,5))\n",
    "kc=np.ones((20,20))\n",
    "lb=np.array([20,100,100])\n",
    "ub=np.array([120,255,255])\n",
    "# READING THE VALUES AND PROVIDING TO THE WEBCAM\n",
    "while True:\n",
    "    ret,frame=cap.read()\n",
    "    flipped=cv2.flip(frame,1)\n",
    "    flipped=cv2.resize(flipped,(500,400))\n",
    "    imgseg=cv2.cvtColor(frame,cv2.COLOR_BGR2HSV)\n",
    "    imgsegflipped=cv2.flip(imgseg,4)\n",
    "    imgsegflipped=cv2.resize(imgsegflipped,(500,400))\n",
    "    mask=cv2.inRange(imgsegflipped,lb,ub)\n",
    "    mask=cv2.resize(mask,(500,400))\n",
    "    mo=cv2.morphologyEx(mask,cv2.MORPH_OPEN,ko)\n",
    "    mo=cv2.resize(mo,(500,400))\n",
    "    mc=cv2.morphologyEx(mask,cv2.MORPH_CLOSE,kc)\n",
    "    mc=cv2.resize(mc,(500,400))\n",
    "    \n",
    "    final=mc\n",
    "    conts,h=cv2.findContours(mc,cv2.RETR_EXTERNAL,cv2.CHAIN_APPROX_NONE)\n",
    "    if(len(conts)!=0):\n",
    "        b=max(conts,key=cv2.contourArea)\n",
    "        west=tuple(b[b[:,:,0].argmin()][0])\n",
    "        east=tuple(b[b[:,:,0].argmin()][0])\n",
    "        north=tuple(b[b[:,:,1].argmin()][0])\n",
    "        south=tuple(b[b[:,:,1].argmin()][0])\n",
    "        centre_x=(west[0]+east[0])/2\n",
    "        centre_y=(north[0]+south[0])/2\n",
    "        \n",
    "        cv2.drawContours(flipped,b,-1,(0,255,0),3)\n",
    "        cv2.circle(flipped,west,6,(0,0,255),-1)\n",
    "        cv2.circle(flipped,east,6,(0,0,255),-1)\n",
    "        cv2.circle(flipped,north,6,(0,0,255),-1)\n",
    "        cv2.circle(flipped,south,6,(0,0,255),-1)\n",
    "        cv2.circle(flipped,(int(centre_x),int(centre_y)),6,(0,0,255),-1)\n",
    "        \n",
    "    cv2.imshow('Gesture_Mouse',flipped)\n",
    "    if cv2.waitKey(0)==ord('q'):\n",
    "        break\n",
    "\n",
    "cap.release()\n",
    "cv2.destroyAllWindows()\n",
    "    \n",
    "   "
   ]
  },
  {
   "cell_type": "code",
   "execution_count": null,
   "id": "b7690273",
   "metadata": {},
   "outputs": [],
   "source": []
  }
 ],
 "metadata": {
  "kernelspec": {
   "display_name": "Python 3 (ipykernel)",
   "language": "python",
   "name": "python3"
  },
  "language_info": {
   "codemirror_mode": {
    "name": "ipython",
    "version": 3
   },
   "file_extension": ".py",
   "mimetype": "text/x-python",
   "name": "python",
   "nbconvert_exporter": "python",
   "pygments_lexer": "ipython3",
   "version": "3.9.7"
  }
 },
 "nbformat": 4,
 "nbformat_minor": 5
}
